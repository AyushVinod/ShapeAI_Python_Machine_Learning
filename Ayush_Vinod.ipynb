{
  "nbformat": 4,
  "nbformat_minor": 0,
  "metadata": {
    "colab": {
      "name": "Ayush Vinod.ipynb",
      "provenance": []
    },
    "kernelspec": {
      "name": "python3",
      "display_name": "Python 3"
    },
    "language_info": {
      "name": "python"
    }
  },
  "cells": [
    {
      "cell_type": "code",
      "metadata": {
        "id": "ueHCu4e_r0KE"
      },
      "source": [
        "import numpy as nmp\n",
        "import pandas as pnd\n",
        "import sklearn\n",
        "#LIBRARIES for machine learning\n",
        "\n",
        "from sklearn.datasets import load_boston  #importing the function load_boston\n",
        "\n",
        "boston = pnd.DataFrame(df.data, columns = df.feature_names)  \n",
        "#creating a table boston that contains all the data from load_boston\n",
        "\n",
        "boston.head()\n",
        "\n",
        "boston['MEDV'] = df.target\n",
        "boston.head(10)  \n",
        "\n",
        "#boston.isnull()  \n",
        "boston.isnull().sum()  #checking whether the dataset contains any null value or not"
      ],
      "execution_count": null,
      "outputs": []
    },
    {
      "cell_type": "code",
      "metadata": {
        "colab": {
          "base_uri": "https://localhost:8080/"
        },
        "id": "Q5vXNMTLAcjt",
        "outputId": "f9f40d81-7265-4e40-b59e-2c462852e124"
      },
      "source": [
        "from sklearn.model_selection import train_test_split\n",
        "\n",
        "X = boston.drop('MEDV',axis=1)\n",
        "Y = boston['MEDV']\n",
        "\n",
        "X_train, X_test, Y_train, Y_test = train_test_split(X, Y, test_size = 0.12, random_state = 7)\n",
        "# test_size = 0.15 ,i.e, 20/100 datapoints will be set for testing and the rest for training\n",
        "\n",
        "print(X_train.shape)\n",
        "print(X_test.shape)\n",
        "print(Y_train.shape)\n",
        "print(Y_test.shape)\n",
        "# printing the number of rows and columns that are affected"
      ],
      "execution_count": 41,
      "outputs": [
        {
          "output_type": "stream",
          "text": [
            "(445, 13)\n",
            "(61, 13)\n",
            "(445,)\n",
            "(61,)\n"
          ],
          "name": "stdout"
        }
      ]
    },
    {
      "cell_type": "code",
      "metadata": {
        "colab": {
          "base_uri": "https://localhost:8080/"
        },
        "id": "AFyPBP_kAnnC",
        "outputId": "67111740-c415-4b83-9804-3b208cf2ce66"
      },
      "source": [
        "from sklearn.linear_model import LinearRegression\n",
        "from sklearn.metrics import mean_squared_error\n",
        "\n",
        "lin_model = LinearRegression()\n",
        "lin_model.fit(X_train ,Y_train)  #feeding the train and test data to the model\n",
        "\n",
        "Y_train_predict = lin_model.predict(X_train)\n",
        "rmse = (nmp.sqrt(mean_squared_error(Y_train,Y_train_predict)))\n",
        "\n",
        "print(\"The Model Performance For Training Set RMSE Is {}\\n\".format(rmse))\n",
        "\n",
        "Y_test_predict = lin_model.predict(X_test)\n",
        "rmse = (nmp.sqrt(mean_squared_error(Y_test,Y_test_predict)))\n",
        "\n",
        "print(\"The Model Performance For Testing Set RMSE Is {}\\n\".format(rmse))"
      ],
      "execution_count": 42,
      "outputs": [
        {
          "output_type": "stream",
          "text": [
            "The Model Performance For Training Set RMSE Is 4.7156070822174865\n",
            "\n",
            "The Model Performance For Testing Set RMSE Is 4.560601800777825\n",
            "\n"
          ],
          "name": "stdout"
        }
      ]
    }
  ]
}